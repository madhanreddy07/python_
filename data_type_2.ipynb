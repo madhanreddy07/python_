{
  "nbformat": 4,
  "nbformat_minor": 0,
  "metadata": {
    "colab": {
      "provenance": [],
      "authorship_tag": "ABX9TyNBogceHJfKGa9Avs0KFMP8",
      "include_colab_link": true
    },
    "kernelspec": {
      "name": "python3",
      "display_name": "Python 3"
    },
    "language_info": {
      "name": "python"
    }
  },
  "cells": [
    {
      "cell_type": "markdown",
      "metadata": {
        "id": "view-in-github",
        "colab_type": "text"
      },
      "source": [
        "<a href=\"https://colab.research.google.com/github/madhanreddy07/python_/blob/main/data_type_2.ipynb\" target=\"_parent\"><img src=\"https://colab.research.google.com/assets/colab-badge.svg\" alt=\"Open In Colab\"/></a>"
      ]
    },
    {
      "cell_type": "code",
      "execution_count": null,
      "metadata": {
        "id": "XShgfES-NxPd"
      },
      "outputs": [],
      "source": []
    },
    {
      "cell_type": "markdown",
      "source": [
        "# Boolean with 10 example\n",
        "- A boolean is data type with two possible values true or false\n",
        "- True typically evalute to a value of 1.\n",
        "- false typically evaluate to value of 0."
      ],
      "metadata": {
        "id": "Lbvy0Q44NyCi"
      }
    },
    {
      "cell_type": "code",
      "source": [
        "a=(9<5)\n",
        "print (a)"
      ],
      "metadata": {
        "colab": {
          "base_uri": "https://localhost:8080/"
        },
        "id": "Fdg27BUQPFVa",
        "outputId": "1b198f06-5e80-4fac-bd74-df3bed7c8c61"
      },
      "execution_count": 4,
      "outputs": [
        {
          "output_type": "stream",
          "name": "stdout",
          "text": [
            "False\n"
          ]
        }
      ]
    },
    {
      "cell_type": "code",
      "source": [
        "b=(10>-60)\n",
        "print(b)"
      ],
      "metadata": {
        "colab": {
          "base_uri": "https://localhost:8080/"
        },
        "id": "NFU3hUdCPlDm",
        "outputId": "468d0c6f-9317-4d6b-d684-d1633032e6e4"
      },
      "execution_count": 5,
      "outputs": [
        {
          "output_type": "stream",
          "name": "stdout",
          "text": [
            "True\n"
          ]
        }
      ]
    },
    {
      "cell_type": "code",
      "source": [
        "c=(20==34)\n",
        "print(c)"
      ],
      "metadata": {
        "colab": {
          "base_uri": "https://localhost:8080/"
        },
        "id": "Ixjj2u31PyrX",
        "outputId": "0afa686c-98cb-4075-de7f-88bb76009df2"
      },
      "execution_count": 6,
      "outputs": [
        {
          "output_type": "stream",
          "name": "stdout",
          "text": [
            "False\n"
          ]
        }
      ]
    },
    {
      "cell_type": "code",
      "source": [
        "d=(7>4)\n",
        "print(d)"
      ],
      "metadata": {
        "colab": {
          "base_uri": "https://localhost:8080/"
        },
        "id": "tl4pcHypPyu3",
        "outputId": "594f1160-e92b-4ff5-97aa-cae8937e2bb1"
      },
      "execution_count": 7,
      "outputs": [
        {
          "output_type": "stream",
          "name": "stdout",
          "text": [
            "True\n"
          ]
        }
      ]
    },
    {
      "cell_type": "code",
      "source": [
        "e=(34==34)\n",
        "print(e)"
      ],
      "metadata": {
        "colab": {
          "base_uri": "https://localhost:8080/"
        },
        "id": "pPmaUHCsRhAv",
        "outputId": "4b697868-1f8d-4bca-e9b0-22d4fa28c8b0"
      },
      "execution_count": 8,
      "outputs": [
        {
          "output_type": "stream",
          "name": "stdout",
          "text": [
            "True\n"
          ]
        }
      ]
    },
    {
      "cell_type": "code",
      "source": [
        "m=7<12\n",
        "print(m)"
      ],
      "metadata": {
        "colab": {
          "base_uri": "https://localhost:8080/"
        },
        "id": "gbAeq2PsRhxw",
        "outputId": "9fc6fd69-397c-4e07-ffd9-917d0dd1cc94"
      },
      "execution_count": 9,
      "outputs": [
        {
          "output_type": "stream",
          "name": "stdout",
          "text": [
            "True\n"
          ]
        }
      ]
    },
    {
      "cell_type": "code",
      "source": [
        "n=0==0\n",
        "print(n)"
      ],
      "metadata": {
        "colab": {
          "base_uri": "https://localhost:8080/"
        },
        "id": "T1ia7RblRh1N",
        "outputId": "7a1cbf9c-ce05-44fa-e9dc-5c8919cbfd10"
      },
      "execution_count": 11,
      "outputs": [
        {
          "output_type": "stream",
          "name": "stdout",
          "text": [
            "True\n"
          ]
        }
      ]
    },
    {
      "cell_type": "code",
      "source": [
        "bool(0)"
      ],
      "metadata": {
        "colab": {
          "base_uri": "https://localhost:8080/"
        },
        "id": "6o0Z1AAbRiCi",
        "outputId": "3c8697ae-42e4-4b40-9135-2985a27ac350"
      },
      "execution_count": 12,
      "outputs": [
        {
          "output_type": "execute_result",
          "data": {
            "text/plain": [
              "False"
            ]
          },
          "metadata": {},
          "execution_count": 12
        }
      ]
    },
    {
      "cell_type": "code",
      "source": [
        " bool(-77)"
      ],
      "metadata": {
        "colab": {
          "base_uri": "https://localhost:8080/"
        },
        "id": "GsqY-t_LSqaI",
        "outputId": "a51e08db-f329-4edf-dc38-12daedf7eed5"
      },
      "execution_count": 13,
      "outputs": [
        {
          "output_type": "execute_result",
          "data": {
            "text/plain": [
              "True"
            ]
          },
          "metadata": {},
          "execution_count": 13
        }
      ]
    },
    {
      "cell_type": "code",
      "source": [
        "bool(0)"
      ],
      "metadata": {
        "colab": {
          "base_uri": "https://localhost:8080/"
        },
        "id": "eoWyMGSZSqdk",
        "outputId": "e97244e8-3edb-4ef5-d6a5-7cf0dc064549"
      },
      "execution_count": 14,
      "outputs": [
        {
          "output_type": "execute_result",
          "data": {
            "text/plain": [
              "False"
            ]
          },
          "metadata": {},
          "execution_count": 14
        }
      ]
    },
    {
      "cell_type": "code",
      "source": [
        "bool()"
      ],
      "metadata": {
        "colab": {
          "base_uri": "https://localhost:8080/"
        },
        "id": "coqpq2HASqib",
        "outputId": "2790ce69-58e6-4f9f-989b-98ec7d415b56"
      },
      "execution_count": 15,
      "outputs": [
        {
          "output_type": "execute_result",
          "data": {
            "text/plain": [
              "False"
            ]
          },
          "metadata": {},
          "execution_count": 15
        }
      ]
    },
    {
      "cell_type": "code",
      "source": [
        "bool(6)"
      ],
      "metadata": {
        "colab": {
          "base_uri": "https://localhost:8080/"
        },
        "id": "UAAVZL92Sql6",
        "outputId": "8ddcc8bd-9f94-4c8f-c9cc-859bf2091af0"
      },
      "execution_count": 18,
      "outputs": [
        {
          "output_type": "execute_result",
          "data": {
            "text/plain": [
              "True"
            ]
          },
          "metadata": {},
          "execution_count": 18
        }
      ]
    },
    {
      "cell_type": "markdown",
      "source": [
        "# 2 explain the conversion or type casting for each type 5 examples\n",
        "- It is the process of converting a value from one data type to another in programming\n",
        "- There are two main types of type casting\n",
        "-1) implicit type coversion\n",
        "- The method is user needs to convert the data type into another data type automatically\n",
        "- 2) explicit type converation\n",
        "-  we cannot convert into complex and int and float because complex have real and inmaginary part\n",
        "- if we convert to complex into int and float"
      ],
      "metadata": {
        "id": "DCrifaGnTQG8"
      }
    },
    {
      "cell_type": "markdown",
      "source": [
        "Type Conversion\n"
      ],
      "metadata": {
        "id": "x8ZVK9jVYcP0"
      }
    },
    {
      "cell_type": "markdown",
      "source": [
        "Int to Float"
      ],
      "metadata": {
        "id": "tmjYg3nMYo5n"
      }
    },
    {
      "cell_type": "code",
      "source": [
        "a=54\n",
        "m=float(a)\n",
        "print(m)"
      ],
      "metadata": {
        "colab": {
          "base_uri": "https://localhost:8080/"
        },
        "id": "k4WJ-NXQYwFY",
        "outputId": "1dc72d8b-4024-4aec-be07-b05766377d57"
      },
      "execution_count": 20,
      "outputs": [
        {
          "output_type": "stream",
          "name": "stdout",
          "text": [
            "54.0\n"
          ]
        }
      ]
    },
    {
      "cell_type": "code",
      "source": [
        "n=24\n",
        "h=float(n)\n",
        "print(h)"
      ],
      "metadata": {
        "colab": {
          "base_uri": "https://localhost:8080/"
        },
        "id": "1Iz4Z9h_ZO6E",
        "outputId": "2317804d-d4ca-417d-9df6-b2211d8a1d1f"
      },
      "execution_count": 21,
      "outputs": [
        {
          "output_type": "stream",
          "name": "stdout",
          "text": [
            "24.0\n"
          ]
        }
      ]
    },
    {
      "cell_type": "code",
      "source": [
        "b=108\n",
        "c=float(b)\n",
        "print(c)"
      ],
      "metadata": {
        "colab": {
          "base_uri": "https://localhost:8080/"
        },
        "id": "7aTDXtvvZjcT",
        "outputId": "11a77f5a-c9df-4de2-9024-f74b24498bfd"
      },
      "execution_count": 22,
      "outputs": [
        {
          "output_type": "stream",
          "name": "stdout",
          "text": [
            "108.0\n"
          ]
        }
      ]
    },
    {
      "cell_type": "code",
      "source": [
        "e=96\n",
        "f=float(e)\n",
        "print(f)"
      ],
      "metadata": {
        "colab": {
          "base_uri": "https://localhost:8080/"
        },
        "id": "KEnbDOpZZjhS",
        "outputId": "50aa45ff-c35b-4ee1-f48a-02d900b1f6f1"
      },
      "execution_count": 23,
      "outputs": [
        {
          "output_type": "stream",
          "name": "stdout",
          "text": [
            "96.0\n"
          ]
        }
      ]
    },
    {
      "cell_type": "code",
      "source": [
        "h=0000\n",
        "i=float(h)\n",
        "print(i)"
      ],
      "metadata": {
        "colab": {
          "base_uri": "https://localhost:8080/"
        },
        "id": "IyDrUzmQZj1i",
        "outputId": "a5398b5f-5816-4a53-d836-1b11b579c633"
      },
      "execution_count": 25,
      "outputs": [
        {
          "output_type": "stream",
          "name": "stdout",
          "text": [
            "0.0\n"
          ]
        }
      ]
    },
    {
      "cell_type": "markdown",
      "source": [
        "Intb to Ccomplex\n"
      ],
      "metadata": {
        "id": "ZE6ixOopaifI"
      }
    },
    {
      "cell_type": "code",
      "source": [
        "a=77\n",
        "b=complex(a)\n",
        "print(b)"
      ],
      "metadata": {
        "colab": {
          "base_uri": "https://localhost:8080/"
        },
        "id": "_Rtu6dzgaoWf",
        "outputId": "c211030b-9844-43f5-bacd-adba9af58953"
      },
      "execution_count": 26,
      "outputs": [
        {
          "output_type": "stream",
          "name": "stdout",
          "text": [
            "(77+0j)\n"
          ]
        }
      ]
    },
    {
      "cell_type": "code",
      "source": [
        "i=190\n",
        "j=complex(i)\n",
        "print(j)"
      ],
      "metadata": {
        "colab": {
          "base_uri": "https://localhost:8080/"
        },
        "id": "udXVFOHQbKMs",
        "outputId": "00cab762-2e4b-4aa3-e2f0-02ba0ca828dc"
      },
      "execution_count": 27,
      "outputs": [
        {
          "output_type": "stream",
          "name": "stdout",
          "text": [
            "(190+0j)\n"
          ]
        }
      ]
    },
    {
      "cell_type": "code",
      "source": [
        "k=-966\n",
        "l=complex(k)\n",
        "print(l)"
      ],
      "metadata": {
        "colab": {
          "base_uri": "https://localhost:8080/"
        },
        "id": "CoxyUloZbKXn",
        "outputId": "6a8ae847-329c-4ca9-e616-403253273e13"
      },
      "execution_count": 32,
      "outputs": [
        {
          "output_type": "stream",
          "name": "stdout",
          "text": [
            "(-966+0j)\n"
          ]
        }
      ]
    },
    {
      "cell_type": "code",
      "source": [
        "m=9876554321\n",
        "n=complex(m)\n",
        "print(n)"
      ],
      "metadata": {
        "colab": {
          "base_uri": "https://localhost:8080/"
        },
        "id": "TW7ksv15bKii",
        "outputId": "a6a82354-a9a3-4f62-a672-a4c13be54abc"
      },
      "execution_count": 29,
      "outputs": [
        {
          "output_type": "stream",
          "name": "stdout",
          "text": [
            "(9876554321+0j)\n"
          ]
        }
      ]
    },
    {
      "cell_type": "code",
      "source": [
        "o=-398\n",
        "p=complex(o)\n",
        "print(p)"
      ],
      "metadata": {
        "colab": {
          "base_uri": "https://localhost:8080/"
        },
        "id": "6hwJYtLXbK5b",
        "outputId": "82000601-8ddf-4a6e-f9c3-26400934952c"
      },
      "execution_count": 33,
      "outputs": [
        {
          "output_type": "stream",
          "name": "stdout",
          "text": [
            "(-398+0j)\n"
          ]
        }
      ]
    },
    {
      "cell_type": "markdown",
      "source": [
        "Float to Int\n"
      ],
      "metadata": {
        "id": "67aP12Rucmgt"
      }
    },
    {
      "cell_type": "code",
      "source": [
        "a=78.789\n",
        "b=int(a)\n",
        "print(b)"
      ],
      "metadata": {
        "colab": {
          "base_uri": "https://localhost:8080/"
        },
        "id": "TQ2gQSKxc9kb",
        "outputId": "5cfa7a67-c538-4565-9bf7-2912d9672748"
      },
      "execution_count": 34,
      "outputs": [
        {
          "output_type": "stream",
          "name": "stdout",
          "text": [
            "78\n"
          ]
        }
      ]
    },
    {
      "cell_type": "code",
      "source": [
        "c=2356.9876\n",
        "d=int(c)\n",
        "print(d)"
      ],
      "metadata": {
        "colab": {
          "base_uri": "https://localhost:8080/"
        },
        "id": "E-doVtf6dMrz",
        "outputId": "927aae16-23a5-4798-9d6e-2fc8335300b7"
      },
      "execution_count": 35,
      "outputs": [
        {
          "output_type": "stream",
          "name": "stdout",
          "text": [
            "2356\n"
          ]
        }
      ]
    },
    {
      "cell_type": "code",
      "source": [
        "e=-67.34\n",
        "f=int(e)\n",
        "print(f)"
      ],
      "metadata": {
        "colab": {
          "base_uri": "https://localhost:8080/"
        },
        "id": "U5S6rVD8dM5U",
        "outputId": "13c3f50f-3641-45cd-e91b-7e639fac706f"
      },
      "execution_count": 37,
      "outputs": [
        {
          "output_type": "stream",
          "name": "stdout",
          "text": [
            "-67\n"
          ]
        }
      ]
    },
    {
      "cell_type": "code",
      "source": [
        "g=-0000000000000000000.7975345679\n",
        "h=int(g)\n",
        "print(h)"
      ],
      "metadata": {
        "colab": {
          "base_uri": "https://localhost:8080/"
        },
        "id": "LgPMHjZkdNWM",
        "outputId": "92074487-8408-4a41-9c6e-994220783727"
      },
      "execution_count": 41,
      "outputs": [
        {
          "output_type": "stream",
          "name": "stdout",
          "text": [
            "0\n"
          ]
        }
      ]
    },
    {
      "cell_type": "code",
      "source": [
        "i=95684.9854\n",
        "j=int(i)\n",
        "print(j)"
      ],
      "metadata": {
        "colab": {
          "base_uri": "https://localhost:8080/"
        },
        "id": "MODW5ZRYdOHW",
        "outputId": "2732e7ce-d280-45bf-d3d3-7e4fa99bedba"
      },
      "execution_count": 40,
      "outputs": [
        {
          "output_type": "stream",
          "name": "stdout",
          "text": [
            "95684\n"
          ]
        }
      ]
    },
    {
      "cell_type": "markdown",
      "source": [
        "# Float to Complex"
      ],
      "metadata": {
        "id": "VbSsbkVckaeh"
      }
    },
    {
      "cell_type": "code",
      "source": [
        "a=88.89\n",
        "b=complex(a)\n",
        "print(b)"
      ],
      "metadata": {
        "colab": {
          "base_uri": "https://localhost:8080/"
        },
        "id": "qkcflbuFkz6o",
        "outputId": "9c2a8f0c-6c43-4f4b-ed2c-28d96b8d5c0f"
      },
      "execution_count": 42,
      "outputs": [
        {
          "output_type": "stream",
          "name": "stdout",
          "text": [
            "(88.89+0j)\n"
          ]
        }
      ]
    },
    {
      "cell_type": "code",
      "source": [
        "c=200.56\n",
        "d=complex(c)\n",
        "print(d)"
      ],
      "metadata": {
        "colab": {
          "base_uri": "https://localhost:8080/"
        },
        "id": "3iP5-w6Hp_re",
        "outputId": "e9ce70cc-dbaf-4abf-cbde-97ea42c66cea"
      },
      "execution_count": 44,
      "outputs": [
        {
          "output_type": "stream",
          "name": "stdout",
          "text": [
            "(200.56+0j)\n"
          ]
        }
      ]
    },
    {
      "cell_type": "code",
      "source": [
        "e=-40.76\n",
        "f=complex(e)\n",
        "print(f)"
      ],
      "metadata": {
        "colab": {
          "base_uri": "https://localhost:8080/"
        },
        "id": "wUZOBfQ_p_xR",
        "outputId": "f0c9edb6-55fe-48fa-9b1f-4850854e534c"
      },
      "execution_count": 45,
      "outputs": [
        {
          "output_type": "stream",
          "name": "stdout",
          "text": [
            "(-40.76+0j)\n"
          ]
        }
      ]
    },
    {
      "cell_type": "code",
      "source": [
        "g=-000.1000\n",
        "h=complex(h)\n",
        "print(h)"
      ],
      "metadata": {
        "colab": {
          "base_uri": "https://localhost:8080/"
        },
        "id": "OyCqSG2Op_3f",
        "outputId": "1a9de31b-b02e-4d97-bc53-45597a4fbde5"
      },
      "execution_count": 46,
      "outputs": [
        {
          "output_type": "stream",
          "name": "stdout",
          "text": [
            "0j\n"
          ]
        }
      ]
    },
    {
      "cell_type": "code",
      "source": [
        "i=-987.65\n",
        "j=complex(i)\n",
        "print(j)"
      ],
      "metadata": {
        "colab": {
          "base_uri": "https://localhost:8080/"
        },
        "id": "dO61Un-cq2Pm",
        "outputId": "37c64b13-bbe4-47db-cedf-abe5866c0678"
      },
      "execution_count": 47,
      "outputs": [
        {
          "output_type": "stream",
          "name": "stdout",
          "text": [
            "(-987.65+0j)\n"
          ]
        }
      ]
    }
  ]
}